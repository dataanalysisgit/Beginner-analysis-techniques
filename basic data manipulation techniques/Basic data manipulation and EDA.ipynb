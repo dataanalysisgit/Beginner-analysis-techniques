{
 "cells": [
  {
   "cell_type": "markdown",
   "id": "69138e4e",
   "metadata": {},
   "source": [
    "Q. 1) Convert the Datatype of 'Date' column to Date-Time format.\n",
    "\n",
    "Q. 2) Add a new column ''year'' in the dataframe, which contains years only.(B.2) Add a new column ''month'' as 2nd column in \n",
    "the dataframe, which contains month only.\n",
    "\n",
    "Q. 3) Remove the columns 'year' and 'month' from the dataframe.\n",
    "\n",
    "Q. 4) Show all the records where 'No. of Crimes' is 0. And, how many such records are there ?\n",
    "\n",
    "Q. 5) What is the maximum & minimum 'average_price' per year in england ?\n",
    "\n",
    "Q. 6) What is the Maximum & Minimum No. of Crimes recorded per area ?\n",
    "\n",
    "Q. 7) Show the total count of records of each area, where average price is less than 100000.\n"
   ]
  },
  {
   "cell_type": "code",
   "execution_count": 67,
   "id": "55fbfad6",
   "metadata": {},
   "outputs": [],
   "source": [
    "import pandas as pd\n"
   ]
  },
  {
   "cell_type": "code",
   "execution_count": 68,
   "id": "e2384d9a",
   "metadata": {},
   "outputs": [],
   "source": [
    "df = pd.read_csv('5. London Housing Data.csv')"
   ]
  },
  {
   "cell_type": "code",
   "execution_count": 69,
   "id": "20f1c9b0",
   "metadata": {},
   "outputs": [],
   "source": [
    "data = df.copy()"
   ]
  },
  {
   "cell_type": "code",
   "execution_count": 70,
   "id": "c9bff3be",
   "metadata": {},
   "outputs": [
    {
     "data": {
      "text/html": [
       "<div>\n",
       "<style scoped>\n",
       "    .dataframe tbody tr th:only-of-type {\n",
       "        vertical-align: middle;\n",
       "    }\n",
       "\n",
       "    .dataframe tbody tr th {\n",
       "        vertical-align: top;\n",
       "    }\n",
       "\n",
       "    .dataframe thead th {\n",
       "        text-align: right;\n",
       "    }\n",
       "</style>\n",
       "<table border=\"1\" class=\"dataframe\">\n",
       "  <thead>\n",
       "    <tr style=\"text-align: right;\">\n",
       "      <th></th>\n",
       "      <th>date</th>\n",
       "      <th>area</th>\n",
       "      <th>average_price</th>\n",
       "      <th>code</th>\n",
       "      <th>houses_sold</th>\n",
       "      <th>no_of_crimes</th>\n",
       "    </tr>\n",
       "  </thead>\n",
       "  <tbody>\n",
       "    <tr>\n",
       "      <th>0</th>\n",
       "      <td>1/1/1995</td>\n",
       "      <td>city of london</td>\n",
       "      <td>91449</td>\n",
       "      <td>E09000001</td>\n",
       "      <td>17.0</td>\n",
       "      <td>NaN</td>\n",
       "    </tr>\n",
       "    <tr>\n",
       "      <th>1</th>\n",
       "      <td>2/1/1995</td>\n",
       "      <td>city of london</td>\n",
       "      <td>82203</td>\n",
       "      <td>E09000001</td>\n",
       "      <td>7.0</td>\n",
       "      <td>NaN</td>\n",
       "    </tr>\n",
       "    <tr>\n",
       "      <th>2</th>\n",
       "      <td>3/1/1995</td>\n",
       "      <td>city of london</td>\n",
       "      <td>79121</td>\n",
       "      <td>E09000001</td>\n",
       "      <td>14.0</td>\n",
       "      <td>NaN</td>\n",
       "    </tr>\n",
       "    <tr>\n",
       "      <th>3</th>\n",
       "      <td>4/1/1995</td>\n",
       "      <td>city of london</td>\n",
       "      <td>77101</td>\n",
       "      <td>E09000001</td>\n",
       "      <td>7.0</td>\n",
       "      <td>NaN</td>\n",
       "    </tr>\n",
       "    <tr>\n",
       "      <th>4</th>\n",
       "      <td>5/1/1995</td>\n",
       "      <td>city of london</td>\n",
       "      <td>84409</td>\n",
       "      <td>E09000001</td>\n",
       "      <td>10.0</td>\n",
       "      <td>NaN</td>\n",
       "    </tr>\n",
       "  </tbody>\n",
       "</table>\n",
       "</div>"
      ],
      "text/plain": [
       "       date            area  average_price       code  houses_sold  \\\n",
       "0  1/1/1995  city of london          91449  E09000001         17.0   \n",
       "1  2/1/1995  city of london          82203  E09000001          7.0   \n",
       "2  3/1/1995  city of london          79121  E09000001         14.0   \n",
       "3  4/1/1995  city of london          77101  E09000001          7.0   \n",
       "4  5/1/1995  city of london          84409  E09000001         10.0   \n",
       "\n",
       "   no_of_crimes  \n",
       "0           NaN  \n",
       "1           NaN  \n",
       "2           NaN  \n",
       "3           NaN  \n",
       "4           NaN  "
      ]
     },
     "execution_count": 70,
     "metadata": {},
     "output_type": "execute_result"
    }
   ],
   "source": [
    "data.head()\n"
   ]
  },
  {
   "cell_type": "code",
   "execution_count": 71,
   "id": "50bd5b95",
   "metadata": {},
   "outputs": [
    {
     "data": {
      "text/plain": [
       "date                0\n",
       "area                0\n",
       "average_price       0\n",
       "code                0\n",
       "houses_sold        94\n",
       "no_of_crimes     6110\n",
       "dtype: int64"
      ]
     },
     "execution_count": 71,
     "metadata": {},
     "output_type": "execute_result"
    }
   ],
   "source": [
    "data.isnull().sum()"
   ]
  },
  {
   "cell_type": "code",
   "execution_count": 72,
   "id": "6d5a6cef",
   "metadata": {},
   "outputs": [
    {
     "data": {
      "text/plain": [
       "date             13549\n",
       "area             13549\n",
       "average_price    13549\n",
       "code             13549\n",
       "houses_sold      13549\n",
       "no_of_crimes      7439\n",
       "dtype: int64"
      ]
     },
     "execution_count": 72,
     "metadata": {},
     "output_type": "execute_result"
    }
   ],
   "source": [
    "data['houses_sold'].fillna(data['houses_sold'].mean(), inplace = True)\n",
    "data.count()"
   ]
  },
  {
   "cell_type": "code",
   "execution_count": 73,
   "id": "50832d47",
   "metadata": {},
   "outputs": [
    {
     "data": {
      "text/html": [
       "<div>\n",
       "<style scoped>\n",
       "    .dataframe tbody tr th:only-of-type {\n",
       "        vertical-align: middle;\n",
       "    }\n",
       "\n",
       "    .dataframe tbody tr th {\n",
       "        vertical-align: top;\n",
       "    }\n",
       "\n",
       "    .dataframe thead th {\n",
       "        text-align: right;\n",
       "    }\n",
       "</style>\n",
       "<table border=\"1\" class=\"dataframe\">\n",
       "  <thead>\n",
       "    <tr style=\"text-align: right;\">\n",
       "      <th></th>\n",
       "      <th>date</th>\n",
       "      <th>area</th>\n",
       "      <th>average_price</th>\n",
       "      <th>code</th>\n",
       "      <th>houses_sold</th>\n",
       "      <th>no_of_crimes</th>\n",
       "    </tr>\n",
       "  </thead>\n",
       "  <tbody>\n",
       "    <tr>\n",
       "      <th>0</th>\n",
       "      <td>1/1/1995</td>\n",
       "      <td>city of london</td>\n",
       "      <td>91449</td>\n",
       "      <td>E09000001</td>\n",
       "      <td>17.0</td>\n",
       "      <td>NaN</td>\n",
       "    </tr>\n",
       "    <tr>\n",
       "      <th>1</th>\n",
       "      <td>2/1/1995</td>\n",
       "      <td>city of london</td>\n",
       "      <td>82203</td>\n",
       "      <td>E09000001</td>\n",
       "      <td>7.0</td>\n",
       "      <td>NaN</td>\n",
       "    </tr>\n",
       "    <tr>\n",
       "      <th>2</th>\n",
       "      <td>3/1/1995</td>\n",
       "      <td>city of london</td>\n",
       "      <td>79121</td>\n",
       "      <td>E09000001</td>\n",
       "      <td>14.0</td>\n",
       "      <td>NaN</td>\n",
       "    </tr>\n",
       "    <tr>\n",
       "      <th>3</th>\n",
       "      <td>4/1/1995</td>\n",
       "      <td>city of london</td>\n",
       "      <td>77101</td>\n",
       "      <td>E09000001</td>\n",
       "      <td>7.0</td>\n",
       "      <td>NaN</td>\n",
       "    </tr>\n",
       "    <tr>\n",
       "      <th>4</th>\n",
       "      <td>5/1/1995</td>\n",
       "      <td>city of london</td>\n",
       "      <td>84409</td>\n",
       "      <td>E09000001</td>\n",
       "      <td>10.0</td>\n",
       "      <td>NaN</td>\n",
       "    </tr>\n",
       "  </tbody>\n",
       "</table>\n",
       "</div>"
      ],
      "text/plain": [
       "       date            area  average_price       code  houses_sold  \\\n",
       "0  1/1/1995  city of london          91449  E09000001         17.0   \n",
       "1  2/1/1995  city of london          82203  E09000001          7.0   \n",
       "2  3/1/1995  city of london          79121  E09000001         14.0   \n",
       "3  4/1/1995  city of london          77101  E09000001          7.0   \n",
       "4  5/1/1995  city of london          84409  E09000001         10.0   \n",
       "\n",
       "   no_of_crimes  \n",
       "0           NaN  \n",
       "1           NaN  \n",
       "2           NaN  \n",
       "3           NaN  \n",
       "4           NaN  "
      ]
     },
     "execution_count": 73,
     "metadata": {},
     "output_type": "execute_result"
    }
   ],
   "source": [
    "\n",
    "data.dtypes\n",
    "data.head()"
   ]
  },
  {
   "cell_type": "code",
   "execution_count": 74,
   "id": "9637f80e",
   "metadata": {},
   "outputs": [],
   "source": [
    "##question 1\n",
    "data['date'] = pd.to_datetime(data['date'])"
   ]
  },
  {
   "cell_type": "code",
   "execution_count": 75,
   "id": "d9afd0e2",
   "metadata": {
    "scrolled": true
   },
   "outputs": [
    {
     "data": {
      "text/plain": [
       "date             datetime64[ns]\n",
       "area                     object\n",
       "average_price             int64\n",
       "code                     object\n",
       "houses_sold             float64\n",
       "no_of_crimes            float64\n",
       "dtype: object"
      ]
     },
     "execution_count": 75,
     "metadata": {},
     "output_type": "execute_result"
    }
   ],
   "source": [
    "data.dtypes"
   ]
  },
  {
   "cell_type": "code",
   "execution_count": 78,
   "id": "11ec3176",
   "metadata": {},
   "outputs": [],
   "source": [
    "##Question 2\n",
    "data['Year'] = pd.DatetimeIndex(data['date']).year"
   ]
  },
  {
   "cell_type": "code",
   "execution_count": 79,
   "id": "dbdc5dce",
   "metadata": {},
   "outputs": [
    {
     "data": {
      "text/html": [
       "<div>\n",
       "<style scoped>\n",
       "    .dataframe tbody tr th:only-of-type {\n",
       "        vertical-align: middle;\n",
       "    }\n",
       "\n",
       "    .dataframe tbody tr th {\n",
       "        vertical-align: top;\n",
       "    }\n",
       "\n",
       "    .dataframe thead th {\n",
       "        text-align: right;\n",
       "    }\n",
       "</style>\n",
       "<table border=\"1\" class=\"dataframe\">\n",
       "  <thead>\n",
       "    <tr style=\"text-align: right;\">\n",
       "      <th></th>\n",
       "      <th>date</th>\n",
       "      <th>area</th>\n",
       "      <th>average_price</th>\n",
       "      <th>code</th>\n",
       "      <th>houses_sold</th>\n",
       "      <th>no_of_crimes</th>\n",
       "      <th>Year</th>\n",
       "    </tr>\n",
       "  </thead>\n",
       "  <tbody>\n",
       "    <tr>\n",
       "      <th>0</th>\n",
       "      <td>1995-01-01</td>\n",
       "      <td>city of london</td>\n",
       "      <td>91449</td>\n",
       "      <td>E09000001</td>\n",
       "      <td>17.0</td>\n",
       "      <td>NaN</td>\n",
       "      <td>1995</td>\n",
       "    </tr>\n",
       "    <tr>\n",
       "      <th>1</th>\n",
       "      <td>1995-02-01</td>\n",
       "      <td>city of london</td>\n",
       "      <td>82203</td>\n",
       "      <td>E09000001</td>\n",
       "      <td>7.0</td>\n",
       "      <td>NaN</td>\n",
       "      <td>1995</td>\n",
       "    </tr>\n",
       "    <tr>\n",
       "      <th>2</th>\n",
       "      <td>1995-03-01</td>\n",
       "      <td>city of london</td>\n",
       "      <td>79121</td>\n",
       "      <td>E09000001</td>\n",
       "      <td>14.0</td>\n",
       "      <td>NaN</td>\n",
       "      <td>1995</td>\n",
       "    </tr>\n",
       "    <tr>\n",
       "      <th>3</th>\n",
       "      <td>1995-04-01</td>\n",
       "      <td>city of london</td>\n",
       "      <td>77101</td>\n",
       "      <td>E09000001</td>\n",
       "      <td>7.0</td>\n",
       "      <td>NaN</td>\n",
       "      <td>1995</td>\n",
       "    </tr>\n",
       "    <tr>\n",
       "      <th>4</th>\n",
       "      <td>1995-05-01</td>\n",
       "      <td>city of london</td>\n",
       "      <td>84409</td>\n",
       "      <td>E09000001</td>\n",
       "      <td>10.0</td>\n",
       "      <td>NaN</td>\n",
       "      <td>1995</td>\n",
       "    </tr>\n",
       "  </tbody>\n",
       "</table>\n",
       "</div>"
      ],
      "text/plain": [
       "        date            area  average_price       code  houses_sold  \\\n",
       "0 1995-01-01  city of london          91449  E09000001         17.0   \n",
       "1 1995-02-01  city of london          82203  E09000001          7.0   \n",
       "2 1995-03-01  city of london          79121  E09000001         14.0   \n",
       "3 1995-04-01  city of london          77101  E09000001          7.0   \n",
       "4 1995-05-01  city of london          84409  E09000001         10.0   \n",
       "\n",
       "   no_of_crimes  Year  \n",
       "0           NaN  1995  \n",
       "1           NaN  1995  \n",
       "2           NaN  1995  \n",
       "3           NaN  1995  \n",
       "4           NaN  1995  "
      ]
     },
     "execution_count": 79,
     "metadata": {},
     "output_type": "execute_result"
    }
   ],
   "source": [
    "data.head()"
   ]
  },
  {
   "cell_type": "code",
   "execution_count": 80,
   "id": "cf8031e3",
   "metadata": {},
   "outputs": [],
   "source": [
    "data.insert(1 , 'Month', pd.DatetimeIndex(data['date']).month)  "
   ]
  },
  {
   "cell_type": "code",
   "execution_count": 83,
   "id": "90aa4e45",
   "metadata": {},
   "outputs": [
    {
     "data": {
      "text/html": [
       "<div>\n",
       "<style scoped>\n",
       "    .dataframe tbody tr th:only-of-type {\n",
       "        vertical-align: middle;\n",
       "    }\n",
       "\n",
       "    .dataframe tbody tr th {\n",
       "        vertical-align: top;\n",
       "    }\n",
       "\n",
       "    .dataframe thead th {\n",
       "        text-align: right;\n",
       "    }\n",
       "</style>\n",
       "<table border=\"1\" class=\"dataframe\">\n",
       "  <thead>\n",
       "    <tr style=\"text-align: right;\">\n",
       "      <th></th>\n",
       "      <th>date</th>\n",
       "      <th>Month</th>\n",
       "      <th>area</th>\n",
       "      <th>average_price</th>\n",
       "      <th>code</th>\n",
       "      <th>houses_sold</th>\n",
       "      <th>no_of_crimes</th>\n",
       "      <th>Year</th>\n",
       "    </tr>\n",
       "  </thead>\n",
       "  <tbody>\n",
       "    <tr>\n",
       "      <th>0</th>\n",
       "      <td>1995-01-01</td>\n",
       "      <td>1</td>\n",
       "      <td>city of london</td>\n",
       "      <td>91449</td>\n",
       "      <td>E09000001</td>\n",
       "      <td>17.0</td>\n",
       "      <td>NaN</td>\n",
       "      <td>1995</td>\n",
       "    </tr>\n",
       "    <tr>\n",
       "      <th>1</th>\n",
       "      <td>1995-02-01</td>\n",
       "      <td>2</td>\n",
       "      <td>city of london</td>\n",
       "      <td>82203</td>\n",
       "      <td>E09000001</td>\n",
       "      <td>7.0</td>\n",
       "      <td>NaN</td>\n",
       "      <td>1995</td>\n",
       "    </tr>\n",
       "    <tr>\n",
       "      <th>2</th>\n",
       "      <td>1995-03-01</td>\n",
       "      <td>3</td>\n",
       "      <td>city of london</td>\n",
       "      <td>79121</td>\n",
       "      <td>E09000001</td>\n",
       "      <td>14.0</td>\n",
       "      <td>NaN</td>\n",
       "      <td>1995</td>\n",
       "    </tr>\n",
       "    <tr>\n",
       "      <th>3</th>\n",
       "      <td>1995-04-01</td>\n",
       "      <td>4</td>\n",
       "      <td>city of london</td>\n",
       "      <td>77101</td>\n",
       "      <td>E09000001</td>\n",
       "      <td>7.0</td>\n",
       "      <td>NaN</td>\n",
       "      <td>1995</td>\n",
       "    </tr>\n",
       "    <tr>\n",
       "      <th>4</th>\n",
       "      <td>1995-05-01</td>\n",
       "      <td>5</td>\n",
       "      <td>city of london</td>\n",
       "      <td>84409</td>\n",
       "      <td>E09000001</td>\n",
       "      <td>10.0</td>\n",
       "      <td>NaN</td>\n",
       "      <td>1995</td>\n",
       "    </tr>\n",
       "  </tbody>\n",
       "</table>\n",
       "</div>"
      ],
      "text/plain": [
       "        date  Month            area  average_price       code  houses_sold  \\\n",
       "0 1995-01-01      1  city of london          91449  E09000001         17.0   \n",
       "1 1995-02-01      2  city of london          82203  E09000001          7.0   \n",
       "2 1995-03-01      3  city of london          79121  E09000001         14.0   \n",
       "3 1995-04-01      4  city of london          77101  E09000001          7.0   \n",
       "4 1995-05-01      5  city of london          84409  E09000001         10.0   \n",
       "\n",
       "   no_of_crimes  Year  \n",
       "0           NaN  1995  \n",
       "1           NaN  1995  \n",
       "2           NaN  1995  \n",
       "3           NaN  1995  \n",
       "4           NaN  1995  "
      ]
     },
     "execution_count": 83,
     "metadata": {},
     "output_type": "execute_result"
    }
   ],
   "source": [
    "data.head()"
   ]
  },
  {
   "cell_type": "code",
   "execution_count": 85,
   "id": "c71aefd3",
   "metadata": {},
   "outputs": [],
   "source": [
    "##question 3 made a seperate variable so the actual data is not affected\n",
    "\n",
    "data_no_column = data.drop(['Month','Year'], axis = 1)"
   ]
  },
  {
   "cell_type": "code",
   "execution_count": 86,
   "id": "33f9611f",
   "metadata": {},
   "outputs": [
    {
     "data": {
      "text/html": [
       "<div>\n",
       "<style scoped>\n",
       "    .dataframe tbody tr th:only-of-type {\n",
       "        vertical-align: middle;\n",
       "    }\n",
       "\n",
       "    .dataframe tbody tr th {\n",
       "        vertical-align: top;\n",
       "    }\n",
       "\n",
       "    .dataframe thead th {\n",
       "        text-align: right;\n",
       "    }\n",
       "</style>\n",
       "<table border=\"1\" class=\"dataframe\">\n",
       "  <thead>\n",
       "    <tr style=\"text-align: right;\">\n",
       "      <th></th>\n",
       "      <th>date</th>\n",
       "      <th>area</th>\n",
       "      <th>average_price</th>\n",
       "      <th>code</th>\n",
       "      <th>houses_sold</th>\n",
       "      <th>no_of_crimes</th>\n",
       "    </tr>\n",
       "  </thead>\n",
       "  <tbody>\n",
       "    <tr>\n",
       "      <th>0</th>\n",
       "      <td>1995-01-01</td>\n",
       "      <td>city of london</td>\n",
       "      <td>91449</td>\n",
       "      <td>E09000001</td>\n",
       "      <td>17.0</td>\n",
       "      <td>NaN</td>\n",
       "    </tr>\n",
       "    <tr>\n",
       "      <th>1</th>\n",
       "      <td>1995-02-01</td>\n",
       "      <td>city of london</td>\n",
       "      <td>82203</td>\n",
       "      <td>E09000001</td>\n",
       "      <td>7.0</td>\n",
       "      <td>NaN</td>\n",
       "    </tr>\n",
       "    <tr>\n",
       "      <th>2</th>\n",
       "      <td>1995-03-01</td>\n",
       "      <td>city of london</td>\n",
       "      <td>79121</td>\n",
       "      <td>E09000001</td>\n",
       "      <td>14.0</td>\n",
       "      <td>NaN</td>\n",
       "    </tr>\n",
       "    <tr>\n",
       "      <th>3</th>\n",
       "      <td>1995-04-01</td>\n",
       "      <td>city of london</td>\n",
       "      <td>77101</td>\n",
       "      <td>E09000001</td>\n",
       "      <td>7.0</td>\n",
       "      <td>NaN</td>\n",
       "    </tr>\n",
       "    <tr>\n",
       "      <th>4</th>\n",
       "      <td>1995-05-01</td>\n",
       "      <td>city of london</td>\n",
       "      <td>84409</td>\n",
       "      <td>E09000001</td>\n",
       "      <td>10.0</td>\n",
       "      <td>NaN</td>\n",
       "    </tr>\n",
       "  </tbody>\n",
       "</table>\n",
       "</div>"
      ],
      "text/plain": [
       "        date            area  average_price       code  houses_sold  \\\n",
       "0 1995-01-01  city of london          91449  E09000001         17.0   \n",
       "1 1995-02-01  city of london          82203  E09000001          7.0   \n",
       "2 1995-03-01  city of london          79121  E09000001         14.0   \n",
       "3 1995-04-01  city of london          77101  E09000001          7.0   \n",
       "4 1995-05-01  city of london          84409  E09000001         10.0   \n",
       "\n",
       "   no_of_crimes  \n",
       "0           NaN  \n",
       "1           NaN  \n",
       "2           NaN  \n",
       "3           NaN  \n",
       "4           NaN  "
      ]
     },
     "execution_count": 86,
     "metadata": {},
     "output_type": "execute_result"
    }
   ],
   "source": [
    "data_no_column.head()"
   ]
  },
  {
   "cell_type": "code",
   "execution_count": 90,
   "id": "cac10dc1",
   "metadata": {},
   "outputs": [
    {
     "data": {
      "text/plain": [
       "date             104\n",
       "Month            104\n",
       "area             104\n",
       "average_price    104\n",
       "code             104\n",
       "houses_sold      104\n",
       "no_of_crimes     104\n",
       "Year             104\n",
       "dtype: int64"
      ]
     },
     "execution_count": 90,
     "metadata": {},
     "output_type": "execute_result"
    }
   ],
   "source": [
    "##question 4\n",
    "data[data['no_of_crimes']== 0].count()"
   ]
  },
  {
   "cell_type": "code",
   "execution_count": 99,
   "id": "61bb7b4b",
   "metadata": {},
   "outputs": [
    {
     "data": {
      "text/plain": [
       "Year\n",
       "1995    200722\n",
       "1996    223197\n",
       "1997    265112\n",
       "1998    277600\n",
       "1999    354241\n",
       "2000    397353\n",
       "2001    451028\n",
       "2002    497538\n",
       "2003    488704\n",
       "2004    559286\n",
       "Name: average_price, dtype: int64"
      ]
     },
     "execution_count": 99,
     "metadata": {},
     "output_type": "execute_result"
    }
   ],
   "source": [
    "##question 5\n",
    "data.groupby('Year')['average_price'].max().head(10)"
   ]
  },
  {
   "cell_type": "code",
   "execution_count": 98,
   "id": "8346d485",
   "metadata": {},
   "outputs": [
    {
     "data": {
      "text/plain": [
       "Year\n",
       "1995     41688\n",
       "1996     40722\n",
       "1997     42353\n",
       "1998     43510\n",
       "1999     43969\n",
       "2000     47604\n",
       "2001     49045\n",
       "2002     54746\n",
       "2003     67520\n",
       "2004     88520\n",
       "2005    110454\n",
       "2006    121124\n",
       "2007    131175\n",
       "2008    120275\n",
       "2009    117079\n",
       "2010    119688\n",
       "2011    115328\n",
       "2012    113011\n",
       "2013    112008\n",
       "2014    114531\n",
       "Name: average_price, dtype: int64"
      ]
     },
     "execution_count": 98,
     "metadata": {},
     "output_type": "execute_result"
    }
   ],
   "source": [
    "data.groupby('Year')['average_price'].min().head(20)"
   ]
  },
  {
   "cell_type": "code",
   "execution_count": 97,
   "id": "09476cef",
   "metadata": {},
   "outputs": [
    {
     "data": {
      "text/plain": [
       "area\n",
       "barking and dagenham      2049.0\n",
       "barnet                    2893.0\n",
       "bexley                    1914.0\n",
       "brent                     2937.0\n",
       "bromley                   2637.0\n",
       "camden                    4558.0\n",
       "city of london              10.0\n",
       "croydon                   3263.0\n",
       "ealing                    3401.0\n",
       "east midlands                NaN\n",
       "east of england              NaN\n",
       "enfield                   2798.0\n",
       "england                      NaN\n",
       "greenwich                 2853.0\n",
       "hackney                   3466.0\n",
       "hammersmith and fulham    2645.0\n",
       "haringey                  3199.0\n",
       "harrow                    1763.0\n",
       "havering                  1956.0\n",
       "hillingdon                2819.0\n",
       "Name: no_of_crimes, dtype: float64"
      ]
     },
     "execution_count": 97,
     "metadata": {},
     "output_type": "execute_result"
    }
   ],
   "source": [
    "##question 6\n",
    "data.groupby('area')['no_of_crimes'].max().head(20)"
   ]
  },
  {
   "cell_type": "code",
   "execution_count": 101,
   "id": "88bf59d5",
   "metadata": {},
   "outputs": [
    {
     "data": {
      "text/plain": [
       "area\n",
       "barking and dagenham    1217.0\n",
       "barnet                  1703.0\n",
       "bexley                   860.0\n",
       "brent                   1850.0\n",
       "bromley                 1441.0\n",
       "camden                  2079.0\n",
       "city of london             0.0\n",
       "croydon                 2031.0\n",
       "ealing                  1871.0\n",
       "east midlands              NaN\n",
       "Name: no_of_crimes, dtype: float64"
      ]
     },
     "execution_count": 101,
     "metadata": {},
     "output_type": "execute_result"
    }
   ],
   "source": [
    "data.groupby('area')['no_of_crimes'].min().head(10)"
   ]
  },
  {
   "cell_type": "code",
   "execution_count": 109,
   "id": "cb1f410b",
   "metadata": {},
   "outputs": [
    {
     "data": {
      "text/plain": [
       "north east              112\n",
       "north west              111\n",
       "yorks and the humber    110\n",
       "east midlands            96\n",
       "west midlands            94\n",
       "england                  87\n",
       "barking and dagenham     85\n",
       "south west               78\n",
       "east of england          76\n",
       "newham                   72\n",
       "bexley                   64\n",
       "waltham forest           64\n",
       "lewisham                 62\n",
       "havering                 60\n",
       "south east               59\n",
       "greenwich                59\n",
       "croydon                  57\n",
       "enfield                  54\n",
       "sutton                   54\n",
       "hackney                  53\n",
       "Name: area, dtype: int64"
      ]
     },
     "execution_count": 109,
     "metadata": {},
     "output_type": "execute_result"
    }
   ],
   "source": [
    "data[data['average_price'] < 100000]['area'].value_counts().head(20)"
   ]
  },
  {
   "cell_type": "code",
   "execution_count": null,
   "id": "3ab72531",
   "metadata": {},
   "outputs": [],
   "source": []
  }
 ],
 "metadata": {
  "kernelspec": {
   "display_name": "Python 3 (ipykernel)",
   "language": "python",
   "name": "python3"
  },
  "language_info": {
   "codemirror_mode": {
    "name": "ipython",
    "version": 3
   },
   "file_extension": ".py",
   "mimetype": "text/x-python",
   "name": "python",
   "nbconvert_exporter": "python",
   "pygments_lexer": "ipython3",
   "version": "3.9.13"
  }
 },
 "nbformat": 4,
 "nbformat_minor": 5
}
